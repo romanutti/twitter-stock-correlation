{
 "cells": [
  {
   "cell_type": "markdown",
   "metadata": {},
   "source": [
    "# Korrelation zwischen Tweets und Aktienkursen, Appendix"
   ]
  },
  {
   "cell_type": "markdown",
   "metadata": {},
   "source": [
    "*Version 1.3, 02. Januar 2019*"
   ]
  },
  {
   "cell_type": "markdown",
   "metadata": {},
   "source": [
    "Im Rahmen des Moduls Data Science mit Python (dsp) an der Fachhochschule Nordwestschweiz soll die Korrelation zwischen Tweets- und Aktienkursen aufgezeigt werden. Im folgenden Notebook sind weiterführende Ausführungen zur Datenaufbereitung und zusätzliche beschreibende Plots zur Unterstützung des Verständnisses aufgeführt."
   ]
  },
  {
   "cell_type": "markdown",
   "metadata": {},
   "source": [
    "### Table of Contents\n",
    "Data collection  \n",
    "&nbsp;&nbsp;&nbsp;Appendix A1: [Data processing](#sec_processing)  \n",
    "\n",
    "Qualitative analysis  \n",
    "&nbsp;&nbsp;&nbsp;Appendix B1: [Datatypes](#sec_datatypes)  \n",
    "&nbsp;&nbsp;&nbsp;Appendix B2: [Categorical variable \"source\"](#sec_source)\n",
    "\n",
    "Quantitative analysis  \n",
    "&nbsp;&nbsp;&nbsp;Appendix C1: [Position and dispersion measures](#sec_position)  \n",
    "&nbsp;&nbsp;&nbsp;Appendix C2: [Polarity characteristics](#sec_polarity)  \n",
    "&nbsp;&nbsp;&nbsp;Appendix C3: [Explorative correlation overview](#sec_correlation)  \n",
    "&nbsp;&nbsp;&nbsp;Appendix C4: [Quantitative correlations](#sec_correlationmatrix)"
   ]
  },
  {
   "cell_type": "markdown",
   "metadata": {},
   "source": [
    "### Data processing <a name=\"sec_processing\"></a>"
   ]
  },
  {
   "cell_type": "markdown",
   "metadata": {},
   "source": [
    "Grundlage für die Analysen bilden zwei separate Datensätze - diese werden in den nachfolgenden Abschnitten genauer erläutert. Die verwendeten Daten können jederzeit neu erstellt werden. Dazu kann das Skript `load_data.py` im *util*-Verzeichnis der Applikation ausgeführt werden. Die Applikation wird mittels *config.py* im selben Verzeichnis konfiguriert. \n",
    "\n",
    "Um die Daten neu zu erstellen, kann folgender Befehl ausgeführt werden:\n",
    "\n",
    "```\n",
    "$ python load_data.py\n",
    "```"
   ]
  },
  {
   "cell_type": "markdown",
   "metadata": {},
   "source": [
    "#### Twitter Daten"
   ]
  },
  {
   "cell_type": "markdown",
   "metadata": {},
   "source": [
    "Twitter ist ein soziales Netwerk, wo Benutzer in kurzen Nachrichten (sog. \"Tweets\") miteinander kommunizieren. Twitter stellt eine eigene API zur Verfügung wo Daten konsumiert werden können. Der nachstehend verwendete Datensatz umfasst 6465 Tweets, welche entweder von den Benutzern *Tesla* oder *Elon Musk* geteilt oder mit einer @-Annotation an diese gerichtet wurden."
   ]
  },
  {
   "cell_type": "code",
   "execution_count": null,
   "metadata": {},
   "outputs": [],
   "source": [
    "!head -15 data/twitterdata.csv"
   ]
  },
  {
   "cell_type": "markdown",
   "metadata": {},
   "source": [
    "Bevor mit den Daten gearbeitet wird, werden diese aufbereitet und in der gewünschten Form in DataFrames geladen. Die dafür notwendigen Funktionen sind im Modul DataHelper implementiert:"
   ]
  },
  {
   "cell_type": "code",
   "execution_count": null,
   "metadata": {},
   "outputs": [],
   "source": [
    "from util.data_helper import DataHelper as dataHelper"
   ]
  },
  {
   "cell_type": "code",
   "execution_count": null,
   "metadata": {},
   "outputs": [],
   "source": [
    "#!/usr/bin/env python\n",
    "# -*- coding: UTF8 -*-\n",
    "\n",
    "# Author: Marco Romanutti -- marco.romanutti@students.fhnw.ch\n",
    "# https://gitlab.fhnw.ch/ML-AT-FHNW/dsp_data_stories.git\n",
    "# Code of corresponding helper classes, see:\n",
    "# hs2018.twitter_stock_correlation.util\n",
    "\n",
    "from IPython.display import display, HTML\n",
    "import warnings; warnings.simplefilter('ignore') # Warninigs verified\n",
    "\n",
    "# Load twitter data\n",
    "raw_tweets = dataHelper.load_twitter_data(dataHelper)\n",
    "# Set DatetimeIndex\n",
    "indexed_tweets = dataHelper.set_datetimeindex(raw_tweets, 'Date of tweet')\n",
    "# Clean tweets\n",
    "cleaned_tweets = dataHelper.remove_specialcharacters(indexed_tweets)\n",
    "# Lowercase tweets\n",
    "lowercased_tweets = dataHelper.lowercase_text(cleaned_tweets, 'Tweets')\n",
    "# Categorize source\n",
    "categorized_tweets = dataHelper.create_category(lowercased_tweets, 'Source')\n",
    "# Rename columns\n",
    "renamed_tweets = dataHelper.rename_tweet_columns(categorized_tweets)\n",
    "# Drop old data\n",
    "new_tweets = dataHelper.drop_old_data(renamed_tweets)\n",
    "\n",
    "# Display results\n",
    "display(new_tweets)"
   ]
  },
  {
   "cell_type": "markdown",
   "metadata": {},
   "source": [
    "Um Aussagen über den Inhalt zu machen, werden die einzelnen Tweet analysiert. Mithilfe der `TextBlob`-Library wird für jeden Tweet ein Polaritäts-Wert berechnet. Die Polarität beschreibt, wie positiv respektive negativ eine Nachricht einzuschätzen ist (vgl. https://en.wikipedia.org/wiki/Sentiment_analysis). Dazu wird das DataFrame um eine Variable ergänzt, welche Werte im Bereich von $-1.0 \\dots, 1.0$ annehmen kann. Der Wert $-1.0$ steht für eine negative Haltung gegenüber dem Empfänger der Nachricht, der Wert $1.0$ für eine positive Haltung."
   ]
  },
  {
   "cell_type": "code",
   "execution_count": null,
   "metadata": {},
   "outputs": [],
   "source": [
    "#!/usr/bin/env python\n",
    "# -*- coding: UTF8 -*-\n",
    "\n",
    "# Author: Marco Romanutti -- marco.romanutti@students.fhnw.ch\n",
    "# https://gitlab.fhnw.ch/ML-AT-FHNW/dsp_data_stories.git\n",
    "# Code of corresponding helper classes, see:\n",
    "# hs2018.twitter_stock_correlation.util\n",
    "\n",
    "# Analyze tweets\n",
    "analyzed_tweets = dataHelper.get_sentiment_score(new_tweets)\n",
    "# Display results\n",
    "display(analyzed_tweets.polarity)"
   ]
  },
  {
   "cell_type": "markdown",
   "metadata": {},
   "source": [
    "Wir erhalten ein DatetimeIndex-indexiertes DataFrame mit den folgenden Variabeln:"
   ]
  },
  {
   "cell_type": "code",
   "execution_count": null,
   "metadata": {},
   "outputs": [],
   "source": [
    "#!/usr/bin/env python\n",
    "# -*- coding: UTF8 -*-\n",
    "\n",
    "# Author: Marco Romanutti -- marco.romanutti@students.fhnw.ch\n",
    "# https://gitlab.fhnw.ch/ML-AT-FHNW/dsp_data_stories.git\n",
    "# Code of corresponding helper classes, see:\n",
    "# hs2018.twitter_stock_correlation.util\n",
    "\n",
    "# Copy DataFrame for further usage\n",
    "tweets = analyzed_tweets\n",
    "# Display results\n",
    "list(tweets)"
   ]
  },
  {
   "cell_type": "markdown",
   "metadata": {},
   "source": [
    "#### NASDAQ-100 Daten"
   ]
  },
  {
   "cell_type": "markdown",
   "metadata": {},
   "source": [
    "Der NASDAQ-100 ist ein Aktienindex. Er besteht aus den Aktien der 100 Nicht-Finanzunternehmen mit der höchsten Marktkapitalisierung in den Vereinigten Staaten. Yahoo stellt eine API zum Herunterladen von Kursdaten zur Verfügung. Der nachfolgende Datensatz umfasst die Kursinformationen des Unternehmens Tesla aus dem Jahr 2018."
   ]
  },
  {
   "cell_type": "code",
   "execution_count": null,
   "metadata": {},
   "outputs": [],
   "source": [
    "!head -16 data/yahoodata.csv"
   ]
  },
  {
   "cell_type": "markdown",
   "metadata": {},
   "source": [
    "Bevor mit den Daten gearbeitet wird, werden diese aufbereitet und in der gewünschten Form in Dataframes geladen. Die notwendigen Funktionen dafür finden sich wiederum im Modul DataHelper."
   ]
  },
  {
   "cell_type": "code",
   "execution_count": null,
   "metadata": {},
   "outputs": [],
   "source": [
    "#!/usr/bin/env python\n",
    "# -*- coding: UTF8 -*-\n",
    "\n",
    "# Author: Marco Romanutti -- marco.romanutti@students.fhnw.ch\n",
    "# https://gitlab.fhnw.ch/ML-AT-FHNW/dsp_data_stories.git\n",
    "# Code of corresponding helper classes, see:\n",
    "# hs2018.twitter_stock_correlation.util\n",
    "\n",
    "# load yahoo data\n",
    "raw_stocks = dataHelper.load_stock_data(dataHelper)\n",
    "# Set DatetimeIndex\n",
    "indexed_stocks = dataHelper.set_datetimeindex(raw_stocks, 'Date')\n",
    "# Calculate biggest variation of stock price\n",
    "extended_stocks = dataHelper.get_daily_difference(indexed_stocks)\n",
    "# Drop unused columns, as we want to focus on important ones\n",
    "reduced_stocks = dataHelper.drop_column(extended_stocks, 'Adjusted closing price (USD)')\n",
    "# Round to two decimal places\n",
    "rounded_stocks = dataHelper.round_data(reduced_stocks)\n",
    "# Rename columns\n",
    "renamed_stocks = dataHelper.rename_stock_columns(rounded_stocks)\n",
    "# Drop old data\n",
    "new_stocks = dataHelper.drop_old_data(renamed_stocks)\n",
    "        \n",
    "# Display results\n",
    "display(new_stocks)"
   ]
  },
  {
   "cell_type": "markdown",
   "metadata": {},
   "source": [
    "Wir erhalten ein DatetimeIndex-indexiertes DataFrame mit den folgenden Variabeln:"
   ]
  },
  {
   "cell_type": "code",
   "execution_count": null,
   "metadata": {},
   "outputs": [],
   "source": [
    "#!/usr/bin/env python\n",
    "# -*- coding: UTF8 -*-\n",
    "\n",
    "# Author: Marco Romanutti -- marco.romanutti@students.fhnw.ch\n",
    "# https://gitlab.fhnw.ch/ML-AT-FHNW/dsp_data_stories.git\n",
    "# Code of corresponding helper classes, see:\n",
    "# hs2018.twitter_stock_correlation.util\n",
    "\n",
    "# Copy DataFrame for further usage\n",
    "stocks = new_stocks\n",
    "# Display results\n",
    "list(stocks)"
   ]
  },
  {
   "cell_type": "markdown",
   "metadata": {},
   "source": [
    "Um Analysen über beide Datensets machen zu können, wird ein drittes, kombiniertes DataFrame erstellt. Der Twitter-Datensatz liegt in einer Granularität von Sekunden vor, während die NASDAQ100-Daten nur auf täglicher Basis vorhanden sind. Um das kombinierte DataFrame zu erstellen wird deshalb der Twitter-Datensatz resampled. Dies wird mit der Funktion `resample_tweets` gemacht. Im unstenstehenden Codeausschnit ist ersichtlich, mithilfe welcher Aggregatsfunktionen die einzelnen Variabeln zusammengezählt wurden.\n",
    "\n",
    "```python\n",
    "    def resample_tweets(data):\n",
    "        \"\"\"\n",
    "        Function to resample all tweets by day.\n",
    "\n",
    "        :param data: Original tweets with a granularity of seconds\n",
    "        :return: Grouped tweets with indexed and grouped by a granularity of a day\n",
    "        \"\"\"\n",
    "        # Resample Data\n",
    "        resampled = pd.DataFrame()\n",
    "        resampled['number_of_tweets'] = data.tweet.resample('D').count()\n",
    "        resampled['length'] = data.length.resample('D').mean()\n",
    "        resampled['likes'] = data.likes.resample('D').sum()\n",
    "        resampled['retweets'] = data.retweets.resample('D').sum()\n",
    "        resampled['polarity'] = data.polarity.resample('D').mean()\n",
    "        \n",
    "        return resampled\n",
    "```"
   ]
  },
  {
   "cell_type": "markdown",
   "metadata": {},
   "source": [
    "Die resampelten Daten können schliesslich kombiniert werden."
   ]
  },
  {
   "cell_type": "code",
   "execution_count": null,
   "metadata": {},
   "outputs": [],
   "source": [
    "#!/usr/bin/env python\n",
    "# -*- coding: UTF8 -*-\n",
    "\n",
    "# Author: Marco Romanutti -- marco.romanutti@students.fhnw.ch\n",
    "# https://gitlab.fhnw.ch/ML-AT-FHNW/dsp_data_stories.git\n",
    "# Code of corresponding helper classes, see:\n",
    "# hs2018.twitter_stock_correlation.util\n",
    "\n",
    "# Prepare combined data\n",
    "resampled_tweets = dataHelper.resample_tweets(tweets)\n",
    "# Join data\n",
    "combined_data = dataHelper.concatenate_data(resampled_tweets, stocks)\n",
    "\n",
    "# Display results\n",
    "display(combined_data)"
   ]
  },
  {
   "cell_type": "markdown",
   "metadata": {},
   "source": [
    "Wir erhalten ein drittes DataFrame mit folgenden Variabeln:"
   ]
  },
  {
   "cell_type": "code",
   "execution_count": null,
   "metadata": {},
   "outputs": [],
   "source": [
    "#!/usr/bin/env python\n",
    "# -*- coding: UTF8 -*-\n",
    "\n",
    "# Author: Marco Romanutti -- marco.romanutti@students.fhnw.ch\n",
    "# https://gitlab.fhnw.ch/ML-AT-FHNW/dsp_data_stories.git\n",
    "# Code of corresponding helper classes, see:\n",
    "# hs2018.twitter_stock_correlation.util\n",
    "\n",
    "# Copy DataFrame for further usage\n",
    "data = combined_data\n",
    "# Display results\n",
    "list(data)"
   ]
  },
  {
   "cell_type": "markdown",
   "metadata": {},
   "source": [
    "### Dataypes <a name=\"sec_datatypes\"></a>"
   ]
  },
  {
   "cell_type": "markdown",
   "metadata": {},
   "source": [
    "Im folgenden Abschnitt wird nochmals auf die qualitativen Eigenschaften der drei DataFrames aus der Erhebung eingegangen. Die notwendigen Funktionen dafür finden sich im Modul StatHelper. Die Funktion `describe_types` liefert die Datentypen der Variabeln."
   ]
  },
  {
   "cell_type": "code",
   "execution_count": null,
   "metadata": {},
   "outputs": [],
   "source": [
    "from util.stat_helper import StatHelper as statHelper"
   ]
  },
  {
   "cell_type": "code",
   "execution_count": null,
   "metadata": {},
   "outputs": [],
   "source": [
    "#!/usr/bin/env python\n",
    "# -*- coding: UTF8 -*-\n",
    "\n",
    "# Author: Marco Romanutti -- marco.romanutti@students.fhnw.ch\n",
    "# https://gitlab.fhnw.ch/ML-AT-FHNW/dsp_data_stories.git\n",
    "# Code of corresponding helper classes, see:\n",
    "# hs2018.twitter_stock_correlation.util\n",
    "\n",
    "# print qualitative infos\n",
    "print(\"Twitter dataset:\")\n",
    "display(statHelper.describe_types(tweets))\n",
    "\n",
    "print(\"NASDAQ-100 dataset:\")\n",
    "display(statHelper.describe_types(stocks))\n",
    "\n",
    "print(\"Combined dataset:\")\n",
    "display(statHelper.describe_types(data))"
   ]
  },
  {
   "cell_type": "markdown",
   "metadata": {},
   "source": [
    "### Categorical variable \"source\" <a name=\"sec_source\"></a>"
   ]
  },
  {
   "cell_type": "markdown",
   "metadata": {},
   "source": [
    "Eine weitere Erläuterung wird bei der Variable Source benötigt. Darin wird ausgewiesen, von welchem Kanal die Twitternachricht abgesetzt wurde. Der untenstehende Plot beschreibt, welche Kanäle im Datenset vorkommen und wie oft dass die einzelnen Kanäle für die Tweets verwendet wurden."
   ]
  },
  {
   "cell_type": "code",
   "execution_count": null,
   "metadata": {},
   "outputs": [],
   "source": [
    "#!/usr/bin/env python\n",
    "# -*- coding: UTF8 -*-\n",
    "\n",
    "# Author: Marco Romanutti -- marco.romanutti@students.fhnw.ch\n",
    "# https://gitlab.fhnw.ch/ML-AT-FHNW/dsp_data_stories.git\n",
    "# Code of corresponding helper classes, see:\n",
    "# hs2018.twitter_stock_correlation.util\n",
    "\n",
    "#import numpy as np\n",
    "#import pandas as pd\n",
    "import matplotlib.pyplot as plt\n",
    "\n",
    "# set plot styles\n",
    "%matplotlib inline\n",
    "plt.style.use('seaborn-muted')\n",
    "\n",
    "# plot number of tweets per category\n",
    "statHelper.plot_source_frequency(tweets)"
   ]
  },
  {
   "cell_type": "markdown",
   "metadata": {},
   "source": [
    "### Position and dispersion measures <a name=\"sec_position\"></a>"
   ]
  },
  {
   "cell_type": "markdown",
   "metadata": {},
   "source": [
    "Im folgenden Abschnitt wird eine Übersicht der wichtigsten Lage- und Streuungsparameter gemacht. Der Fokus liegt dabei auf jeden Variabeln, mit welchen die Fragestellung inwiefern Tweets Rückschlüsse auf Aktienkurse zulassen beantwortet werden soll."
   ]
  },
  {
   "cell_type": "code",
   "execution_count": null,
   "metadata": {},
   "outputs": [],
   "source": [
    "#!/usr/bin/env python\n",
    "# -*- coding: UTF8 -*-\n",
    "\n",
    "# Author: Marco Romanutti -- marco.romanutti@students.fhnw.ch\n",
    "# https://gitlab.fhnw.ch/ML-AT-FHNW/dsp_data_stories.git\n",
    "# Code of corresponding helper classes, see:\n",
    "# hs2018.twitter_stock_correlation.util\n",
    "\n",
    "# measures of location and distribution\n",
    "print(\"Twitter dataset:\")\n",
    "display(statHelper.describe_data(tweets))\n",
    "\n",
    "print(\"NASDAQ-100 dataset:\")\n",
    "display(statHelper.describe_data(stocks))"
   ]
  },
  {
   "cell_type": "markdown",
   "metadata": {},
   "source": [
    "### Polarity characteristics <a name=\"sec_polarity\"></a>"
   ]
  },
  {
   "cell_type": "markdown",
   "metadata": {},
   "source": [
    "Um die Polarität der Tweets besser einordnen zu können, wird diese Variable etwas genauer untersucht. Bei Betrachtung des Historgrams, resp. der kumulativen Verteilung fällt auf, das die Tweets tendenziell positiv ausfallen (0 = neutral): "
   ]
  },
  {
   "cell_type": "code",
   "execution_count": null,
   "metadata": {},
   "outputs": [],
   "source": [
    "#!/usr/bin/env python\n",
    "# -*- coding: UTF8 -*-\n",
    "\n",
    "# Author: Marco Romanutti -- marco.romanutti@students.fhnw.ch\n",
    "# https://gitlab.fhnw.ch/ML-AT-FHNW/dsp_data_stories.git\n",
    "# Code of corresponding helper classes, see:\n",
    "# hs2018.twitter_stock_correlation.util\n",
    "\n",
    "# Plot histogram, normalized histogram \n",
    "# and cumulated distribution of polarity\n",
    "statHelper.plot_polarity_histogram(tweets)"
   ]
  },
  {
   "cell_type": "markdown",
   "metadata": {},
   "source": [
    "Die Entwicklung der Polarität entlang einer Zeitachse lässt den Schluss zu, dass sich die Polarität über die Zeit gesehen einigermassen konstant verhält. Im Diagramm sind positive Polaritätswerte blau, negative hingegen rot eingefärbt."
   ]
  },
  {
   "cell_type": "code",
   "execution_count": null,
   "metadata": {},
   "outputs": [],
   "source": [
    "#!/usr/bin/env python\n",
    "# -*- coding: UTF8 -*-\n",
    "\n",
    "# Author: Marco Romanutti -- marco.romanutti@students.fhnw.ch\n",
    "# https://gitlab.fhnw.ch/ML-AT-FHNW/dsp_data_stories.git\n",
    "# Code of corresponding helper classes, see:\n",
    "# hs2018.twitter_stock_correlation.util\n",
    "\n",
    "import altair as alt\n",
    "alt.renderers.enable('default')\n",
    "\n",
    "# Plot development of polarity\n",
    "statHelper.plot_polarity_development(combined_data)"
   ]
  },
  {
   "cell_type": "markdown",
   "metadata": {},
   "source": [
    "### Explorative correlation overview <a name=\"sec_correlation\"></a>"
   ]
  },
  {
   "cell_type": "markdown",
   "metadata": {},
   "source": [
    "Um die eigentliche Fragestellung zu beantworten, werden Zusammenhänge zwischen den beiden Datensets gesucht. Die `seaborn`-Library beinhaltet die notwendige Funktionalität, um solche Zusammenhänge explorativ zu entdecken. Aus Gründen der Übersichtlichkeit wird auf ein Titel bei den einzelnen Plots verzichtet."
   ]
  },
  {
   "cell_type": "code",
   "execution_count": null,
   "metadata": {},
   "outputs": [],
   "source": [
    "#!/usr/bin/env python\n",
    "# -*- coding: UTF8 -*-\n",
    "\n",
    "# Author: Marco Romanutti -- marco.romanutti@students.fhnw.ch\n",
    "# https://gitlab.fhnw.ch/ML-AT-FHNW/dsp_data_stories.git\n",
    "# Code of corresponding helper classes, see:\n",
    "# hs2018.twitter_stock_correlation.util\n",
    "\n",
    "# Plot correlations\n",
    "statHelper.plot_explorative_correlations(combined_data)"
   ]
  },
  {
   "cell_type": "markdown",
   "metadata": {},
   "source": [
    "### Quantitative correlations <a name=\"sec_correlationmatrix\"></a>"
   ]
  },
  {
   "cell_type": "markdown",
   "metadata": {},
   "source": [
    "Die Korrelations-Plots aus dem vorigen Kapitel lassen bereits die Vermutung zu, dass die Twitter- und Aktiendaten nicht besonders korrelieren. Mithilfe der folgenden Korrelationsmatrix wird die Vermutung bestätigt. Im Plot ist jeweils der errechnete Koerrelationskoeffizient zweier Variabeln farblich dargestellt."
   ]
  },
  {
   "cell_type": "code",
   "execution_count": null,
   "metadata": {},
   "outputs": [],
   "source": [
    "#!/usr/bin/env python\n",
    "# -*- coding: UTF8 -*-\n",
    "\n",
    "# Author: Marco Romanutti -- marco.romanutti@students.fhnw.ch\n",
    "# https://gitlab.fhnw.ch/ML-AT-FHNW/dsp_data_stories.git\n",
    "# Code of corresponding helper classes, see:\n",
    "# hs2018.twitter_stock_correlation.util\n",
    "\n",
    "# Plot correlation matrix\n",
    "statHelper.plot_correlation_matrix(combined_data)"
   ]
  }
 ],
 "metadata": {
  "kernelspec": {
   "display_name": "Python 3",
   "language": "python",
   "name": "python3"
  },
  "language_info": {
   "codemirror_mode": {
    "name": "ipython",
    "version": 3
   },
   "file_extension": ".py",
   "mimetype": "text/x-python",
   "name": "python",
   "nbconvert_exporter": "python",
   "pygments_lexer": "ipython3",
   "version": "3.6.5"
  }
 },
 "nbformat": 4,
 "nbformat_minor": 1
}
