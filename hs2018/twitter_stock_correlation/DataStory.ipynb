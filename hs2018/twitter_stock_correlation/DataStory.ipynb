{
 "cells": [
  {
   "cell_type": "markdown",
   "metadata": {
    "slideshow": {
     "slide_type": "slide"
    }
   },
   "source": [
    "# Korrelation zwischen Tweets und Aktienkursen"
   ]
  },
  {
   "cell_type": "markdown",
   "metadata": {
    "slideshow": {
     "slide_type": "fragment"
    }
   },
   "source": [
    "*Version 1.3, 02. Januar 2019*"
   ]
  },
  {
   "cell_type": "markdown",
   "metadata": {
    "slideshow": {
     "slide_type": "skip"
    }
   },
   "source": [
    "**_Abstract_** Im Rahmen des Moduls Data Science mit Python (dsp) an der Fachhochschule Nordwestschweiz soll die Korrelation zwischen Tweets- und Aktienkursen aufgezeigt werden.\n",
    "\n",
    "Am Beispiel des US-amerikanischen Elektorfahrzeugherstellers Tesla wurden Daten von der Social-Media-Plattform Twitter und der gehandelten Aktien des Unternehmens ausgewertet.\n",
    "\n",
    "Aus der Analyse der Daten konnten verschiedene Schlüsse gezogen werden. Einerseits ist bei den Aktien eine Korrelation zwischen Kursdifferenz und Anzahl der gehandelten Aktien erkennbar: Die Kursdifferenzen sind an Tagen mit einem hohen gehandelten Aktienvolumen besonders gross. Die Analyse der Polarität der einzelnen Tweets lassen den Schluss zu, dass die Tweets tendenziell eher positiv ausfallen. Indem die von unterschiedlichen Quellen stammenden Datensets kombiniert wurden, konnte die Korrelation der Daten überprüft werden. Obwohl anhand von Stichproben zwar Einflüsse von Tweets auf Aktienkurse bei einzelnen Tweets erkannt wurden, konnte keine allgemeingültige Korrelation zwischen den beiden Datensets festgestellt werden."
   ]
  },
  {
   "cell_type": "markdown",
   "metadata": {
    "slideshow": {
     "slide_type": "subslide"
    }
   },
   "source": [
    "### Table of Contents\n",
    "1. [Introduction](#sec_intrtoduction)\n",
    "    1. [Twitter data](#sec_twitter_data)\n",
    "    2. [NASDAQ-100 data](#sec_nasdaq100_data)\n",
    "2. [Results](#sec_results)\n",
    "3. [Conclusion](#sec_conclusion)"
   ]
  },
  {
   "cell_type": "markdown",
   "metadata": {
    "slideshow": {
     "slide_type": "slide"
    }
   },
   "source": [
    "### Introduction <a name=\"sec_introduction\"></a>"
   ]
  },
  {
   "cell_type": "markdown",
   "metadata": {
    "slideshow": {
     "slide_type": "skip"
    }
   },
   "source": [
    "Tesla ist ein US-amerikanischer Elektrofahrzeughersteller mit Sitz in Palo Alto, CA. Das Unternehmen wurde im Jahr 2003 von Elon Musk gegründet und stand in den vergangenen Jahren wiederholt in medialem Fokus (vgl. [wikipedia.org](https://de.wikipedia.org/wiki/Tesla,_Inc.)). Die Aktien sind im NASDAQ-100 enthalten. Der NASDAQ-100 ist ein Kursindex, der aus den Aktien der 100 Nicht-Finanzunternehmen in den Vereinigten Staaten mit der höchsten Marktkapitalisierung besteht.\n",
    "\n",
    "Die Aktien von Tesla gelten als volatil und insbesondere Gründer Elon Musk nutzt Twitter als primäres Sprachrohr (vgl. [cnbc.com](https://www.cnbc.com/2018/10/05/tesla-shares-drop-nearly-5percent-after-musk-mocks-sec-on-twitter.html)). Im August 2018 beispielweise kündete Musk via Twitter an, dass er erwäge Tesla von der Börse zu nehmen. Die Ankündigung liess den Aktienkurs in den nachfolgenden Stunden ansteigen und führte letztlich dazu, dass der Handel der Tesla-Aktien zwischenzeitlich ausgesetzt wurde (Bild: [ogilvy.com](https://www.ogilvy.com/feed/11-tweets-that-turned-the-stock-market-upside-down/)):"
   ]
  },
  {
   "cell_type": "markdown",
   "metadata": {
    "slideshow": {
     "slide_type": "slide"
    }
   },
   "source": [
    "![intro_musk.png](resources/intro_musk.png)"
   ]
  },
  {
   "cell_type": "markdown",
   "metadata": {
    "slideshow": {
     "slide_type": "skip"
    }
   },
   "source": [
    "In der vorliegenden Data Story soll nun aufgezeigt werden, inwiefern tatsächlich eine Korrelation zwischen Twitter-Nachrichten (sog. \"Tweets\") und Aktienkursen festgestellt werden kann."
   ]
  },
  {
   "cell_type": "markdown",
   "metadata": {
    "slideshow": {
     "slide_type": "skip"
    }
   },
   "source": [
    "Grundlage für die Analysen bilden zwei separate Datensätze - diese werden in den nachfolgenden Abschnitten erläutert. Die einzelnen Schritte der Aufbereitung werden im Notebook *DataStory_Appendix* im **_Appendix A1: Data processing_** ausführlich beschrieben."
   ]
  },
  {
   "cell_type": "markdown",
   "metadata": {
    "slideshow": {
     "slide_type": "slide"
    }
   },
   "source": [
    "#### Twitter Daten <a name=\"sec_twitter_data\"></a>"
   ]
  },
  {
   "cell_type": "markdown",
   "metadata": {
    "slideshow": {
     "slide_type": "skip"
    }
   },
   "source": [
    "Twitter ist ein soziales Netwerk, wo Benutzer in kurzen Nachrichten (sog. \"Tweets\") miteinander kommunizieren. Twitter stellt eine eigene API zur Verfügung wo Daten konsumiert werden können. Der nachstehend verwendete Datensatz umfasst 6465 Tweets, welche entweder von den Benutzern *Tesla* oder *Elon Musk* geteilt oder mit einer @-Annotation an diese gerichtet wurden."
   ]
  },
  {
   "cell_type": "code",
   "execution_count": null,
   "metadata": {
    "slideshow": {
     "slide_type": "skip"
    }
   },
   "outputs": [],
   "source": [
    "!head -15 data/twitterdata.csv"
   ]
  },
  {
   "cell_type": "markdown",
   "metadata": {
    "slideshow": {
     "slide_type": "skip"
    }
   },
   "source": [
    "Bevor mit den Daten gearbeitet wird, werden diese aufbereitet und in der gewünschten Form in DataFrames geladen. Die dafür notwendigen Funktionen sind im Modul *DataHelper* implementiert.\n",
    "\n",
    "Um Aussagen über den Inhalt zu machen, werden die einzelnen Tweet analysiert. Mithilfe der `TextBlob`-Library wird für jeden Tweet ein Polaritäts-Wert berechnet. Die Polarität beschreibt, wie positiv respektive negativ eine Nachricht einzuschätzen ist (vgl. https://en.wikipedia.org/wiki/Sentiment_analysis). Dazu wird das DataFrame um eine Variable ergänzt, welche Werte im Bereich von $-1.0 \\dots, 1.0$ annehmen kann. Der Wert $-1.0$ steht für eine negative Haltung gegenüber dem Empfänger der Nachricht, der Wert $1.0$ für eine positive Haltung."
   ]
  },
  {
   "cell_type": "code",
   "execution_count": null,
   "metadata": {
    "slideshow": {
     "slide_type": "skip"
    }
   },
   "outputs": [],
   "source": [
    "from util.data_helper import DataHelper as dataHelper"
   ]
  },
  {
   "cell_type": "code",
   "execution_count": null,
   "metadata": {
    "slideshow": {
     "slide_type": "fragment"
    }
   },
   "outputs": [],
   "source": [
    "#!/usr/bin/env python\n",
    "# -*- coding: UTF8 -*-\n",
    "\n",
    "# Author: Marco Romanutti -- marco.romanutti@students.fhnw.ch\n",
    "# https://gitlab.fhnw.ch/ML-AT-FHNW/dsp_data_stories.git\n",
    "# Code of corresponding helper classes, see:\n",
    "# hs2018.twitter_stock_correlation.util\n",
    "\n",
    "from IPython.display import display, HTML\n",
    "import warnings; warnings.simplefilter('ignore') # Warninigs verified\n",
    "\n",
    "# Prepare Twitter data\n",
    "tweets = dataHelper.prepare_tweets(dataHelper)\n",
    "\n",
    "# Display results\n",
    "display(tweets)"
   ]
  },
  {
   "cell_type": "markdown",
   "metadata": {
    "slideshow": {
     "slide_type": "skip"
    }
   },
   "source": [
    "Wir erhalten ein DatetimeIndex-indexiertes (\\*) DataFrame mit den nachfolgend beschriebenen Variabeln. Eine Beschreibung der Datentypen ist im Notebook *DataStory_Appendix* im **_Appendix B1: Datatypes_** vorhanden.\n",
    "\n",
    "* **date\\***: Timestamp when the tweet was published   \n",
    "* **tweet**: Twitter message, lowercased and all special characters removed\n",
    "* **length**: Length of the twitter message\n",
    "* **id**: Unique hash identifier, to identify twitter message\n",
    "* **source**: Channel from which twitter message was sent (s. **_Appendix B2: Categorical variable \"source\"_**)\n",
    "* **likes**: Number of likes\n",
    "* **retweets**: Number of retweets\n",
    "* **user**: Twitter user with whom the tweet is connected (Tesla as company or Elon Musk as founder)\n",
    "* **polarity**: Polarity of twitter message in range -1..1 "
   ]
  },
  {
   "cell_type": "markdown",
   "metadata": {
    "slideshow": {
     "slide_type": "slide"
    }
   },
   "source": [
    "#### NASDAQ-100 Daten <a name=\"sec_nasdaq100_data\"></a>"
   ]
  },
  {
   "cell_type": "markdown",
   "metadata": {
    "slideshow": {
     "slide_type": "skip"
    }
   },
   "source": [
    "Der NASDAQ-100 ist ein Aktienindex. Er besteht aus den Aktien der 100 Nicht-Finanzunternehmen mit der höchsten Marktkapitalisierung in den Vereinigten Staaten. Yahoo stellt eine API zum Herunterladen von Kursdaten zur Verfügung. Der nachfolgende Datensatz umfasst die Kursinformationen des Unternehmens Tesla aus dem Jahr 2018."
   ]
  },
  {
   "cell_type": "code",
   "execution_count": null,
   "metadata": {
    "slideshow": {
     "slide_type": "skip"
    }
   },
   "outputs": [],
   "source": [
    "!head -16 data/yahoodata.csv"
   ]
  },
  {
   "cell_type": "markdown",
   "metadata": {
    "slideshow": {
     "slide_type": "skip"
    }
   },
   "source": [
    "Bevor mit den Daten gearbeitet wird, werden diese aufbereitet und in der gewünschten Form in Dataframes geladen. Die notwendigen Funktionen dafür finden sich wiederum im Modul DataHelper."
   ]
  },
  {
   "cell_type": "code",
   "execution_count": null,
   "metadata": {
    "slideshow": {
     "slide_type": "fragment"
    }
   },
   "outputs": [],
   "source": [
    "#!/usr/bin/env python\n",
    "# -*- coding: UTF8 -*-\n",
    "\n",
    "# Author: Marco Romanutti -- marco.romanutti@students.fhnw.ch\n",
    "# https://gitlab.fhnw.ch/ML-AT-FHNW/dsp_data_stories.git\n",
    "# Code of corresponding helper classes, see:\n",
    "# hs2018.twitter_stock_correlation.util\n",
    "\n",
    "# Prepare Yahoo data\n",
    "stocks = dataHelper.prepare_stocks(dataHelper)\n",
    "\n",
    "# Display results\n",
    "display(stocks)"
   ]
  },
  {
   "cell_type": "markdown",
   "metadata": {
    "slideshow": {
     "slide_type": "skip"
    }
   },
   "source": [
    "Wir erhalten ein DatetimeIndex-indexiertes (\\*) DataFrame mit den nachfolgend beschriebenen Variabeln. Eine Beschreibung der Datentypen ist im Notebook *DataStory_Appendix* im **_Appendix B1: Datatypes_** vorhanden.\n",
    "\n",
    "* **date\\***: Trading day  \n",
    "* **highest_price_usd**: Highest price of stock on this day (USD)\n",
    "* **lowest_price_usd**: Lowest price of stock on this day (USD)\n",
    "* **opening_price_usd**: Opening price of stock on this day (USD)\n",
    "* **closing_price_usd**: Closing price of stock on this day (USD)\n",
    "* **volume**: Number of stocks traded on this day\n",
    "* **daily_difference_usd**: Difference between daily opening and daily closing price (USD)\n",
    "* **daily_difference_usd_abs**: Absolute value of daily_difference_usd (USD)"
   ]
  },
  {
   "cell_type": "markdown",
   "metadata": {
    "slideshow": {
     "slide_type": "skip"
    }
   },
   "source": [
    "Um Analysen über beide Datensets machen zu können, wird ein drittes, kombiniertes DataFrame erstellt. Der Twitter-Datensatz liegt in einer Granularität von Sekunden vor, während die NASDAQ100-Daten nur auf täglicher Basis vorhanden sind. Um das kombinierte DataFrame zu erstellen wird deshalb der Twitter-Datensatz resampled. Der Resampling-Vorgang und die verwendeten Aggregatsfunktionen sind im Notebook *DataStory_Appendix* im **_Appendix A1: Data processing_** beschrieben. Auf eine weitere Erläuterung und Beschreibung der Daten wird hier verzichtet."
   ]
  },
  {
   "cell_type": "code",
   "execution_count": null,
   "metadata": {
    "slideshow": {
     "slide_type": "skip"
    }
   },
   "outputs": [],
   "source": [
    "#!/usr/bin/env python\n",
    "# -*- coding: UTF8 -*-\n",
    "\n",
    "# Author: Marco Romanutti -- marco.romanutti@students.fhnw.ch\n",
    "# https://gitlab.fhnw.ch/ML-AT-FHNW/dsp_data_stories.git\n",
    "# Code of corresponding helper classes, see:\n",
    "# hs2018.twitter_stock_correlation.util\n",
    "\n",
    "# Prepare combined data\n",
    "resampled_tweets = dataHelper.resample_tweets(tweets)\n",
    "# Join data\n",
    "combined_data = dataHelper.concatenate_data(resampled_tweets, stocks)"
   ]
  },
  {
   "cell_type": "markdown",
   "metadata": {
    "slideshow": {
     "slide_type": "slide"
    }
   },
   "source": [
    "### Results <a name=\"sec_results\"></a>"
   ]
  },
  {
   "cell_type": "markdown",
   "metadata": {
    "slideshow": {
     "slide_type": "skip"
    }
   },
   "source": [
    "Im folgenden Abschnitt werden die wichtigsten Erkenntnisse, welche die Daten zulassen, beschrieben. Eine Beschreibung der wichtigsten Lage- und Streuungmasse befindet sich im Notebook *DataStory_Appendix* im **_Appendix C1: Position and dispersion measures_**. Ebenfalls im Anhang wurden ausserdem die Korrelationen der verschiedenen Variabeln untersucht. Die entsprechende Analyse findet sich im Notebook *DataStory_Appendix* im **_Appendix C3: Explorative correlation overview_**. "
   ]
  },
  {
   "cell_type": "markdown",
   "metadata": {
    "slideshow": {
     "slide_type": "slide"
    }
   },
   "source": [
    "**1) Entwicklung des Aktienkurses über die Zeit offenbart teilweise grosse Kursdifferenzen**"
   ]
  },
  {
   "cell_type": "markdown",
   "metadata": {
    "slideshow": {
     "slide_type": "skip"
    }
   },
   "source": [
    "Um einen Eindruck über die Entwicklung des Aktienkurses zu erhalten, wir dieser entlang einer Zeitachse geplottet. Die _Altair_-Library bietet die möglichkeit, ausserdem die Lage des Eröffnungs- und Schlusspreises im Verhältnis zum Tagestiefst- resp. Tageshöchstpreis darzustellen. Dazu wird für jeden Handelstag ein Boxplot erstellt. Die Darstellung ist äusserst informativ, aber zugegebenermassen nicht ganz einfach verständlich. Der Plot wird folgendermassen gelesen:\n",
    "* Die Whisker zeigen jeweis den Tagestiefst- resp. Tageshöchstpreis\n",
    "* Die Quartile stehen für Eröffnungs- resp. Schlusspreis\n",
    "* Resultiert am Tagesende ein Kursgewinn ist der Boxplot grün, ansonsten rot\n",
    "\n",
    "Indem auf dem unteren Plot ein Zeitbereich selektiert wird, wird der dargstellte Ausschnitt im oberen Plot automatisch angepasst (s. auch [Lesehilfe Plot \"Entwicklung des Aktienkurses\"](resources/interpretation_stocks.png))."
   ]
  },
  {
   "cell_type": "code",
   "execution_count": null,
   "metadata": {
    "slideshow": {
     "slide_type": "skip"
    }
   },
   "outputs": [],
   "source": [
    "from util.stat_helper import StatHelper as statHelper"
   ]
  },
  {
   "cell_type": "code",
   "execution_count": null,
   "metadata": {
    "slideshow": {
     "slide_type": "fragment"
    }
   },
   "outputs": [],
   "source": [
    "#!/usr/bin/env python\n",
    "# -*- coding: UTF8 -*-\n",
    "\n",
    "# Author: Marco Romanutti -- marco.romanutti@students.fhnw.ch\n",
    "# https://gitlab.fhnw.ch/ML-AT-FHNW/dsp_data_stories.git\n",
    "# Code of corresponding helper classes, see:\n",
    "# hs2018.twitter_stock_correlation.util\n",
    "\n",
    "import altair as alt\n",
    "alt.renderers.enable('default')\n",
    "\n",
    "# Plot stock development\n",
    "statHelper.plot_stock_development(combined_data)\n",
    "\n",
    "# Workaround for interactive charts in presentation mode\n",
    "from IPython.display import IFrame\n",
    "IFrame(src='resources/stock_development.html', width=950, height=640)"
   ]
  },
  {
   "cell_type": "markdown",
   "metadata": {
    "slideshow": {
     "slide_type": "skip"
    }
   },
   "source": [
    "Falls beispielsweise der Monat August näher betrachtet wird, ist auch der eingangs erwähnte grosse Kurssprung vom  7. August gut zu erkennen. Dieser Plot erlaubt es uns, gezielt Kursverläufe an einzelnen Daten zu analysieren."
   ]
  },
  {
   "cell_type": "markdown",
   "metadata": {
    "slideshow": {
     "slide_type": "slide"
    }
   },
   "source": [
    "**2) Die Volatilität der gehandelten Aktien nimmt bei zunehmendem Volumen der gehandelten Aktien zu**"
   ]
  },
  {
   "cell_type": "markdown",
   "metadata": {
    "slideshow": {
     "slide_type": "skip"
    }
   },
   "source": [
    "Der folgende Plot zeigt, dass die Kursdifferenzen bei einer grösseren Anzahl gehandelten Aktien grösser ausfällt. Für eine prägnantere Darstellung wurde für die Kursdifferenz jeweils der absolute Wert in US-Dollar verwendet."
   ]
  },
  {
   "cell_type": "code",
   "execution_count": null,
   "metadata": {
    "slideshow": {
     "slide_type": "fragment"
    }
   },
   "outputs": [],
   "source": [
    "#!/usr/bin/env python\n",
    "# -*- coding: UTF8 -*-\n",
    "\n",
    "# Author: Marco Romanutti -- marco.romanutti@students.fhnw.ch\n",
    "# https://gitlab.fhnw.ch/ML-AT-FHNW/dsp_data_stories.git\n",
    "# Code of corresponding helper classes, see:\n",
    "# hs2018.twitter_stock_correlation.util\n",
    "\n",
    "# Plot volum/diff correlation\n",
    "statHelper.plot_stock_volatility(stocks)\n",
    "\n",
    "# Workaround for interactive charts in presentation mode\n",
    "from IPython.display import IFrame\n",
    "IFrame(src='resources/stock_volatility.html', width=600, height=400)"
   ]
  },
  {
   "cell_type": "markdown",
   "metadata": {
    "slideshow": {
     "slide_type": "slide"
    }
   },
   "source": [
    "**3) Der Inhalt der Tweets wird eher positiv bewertet**"
   ]
  },
  {
   "cell_type": "markdown",
   "metadata": {
    "slideshow": {
     "slide_type": "skip"
    }
   },
   "source": [
    "Ganz allgemein kann festgestellt werden, dass die Tweets generell (resp. deren Polarität) als positiv eingestuft werden. Die Korrektheit der verwendeten Library wurde anhand von einzelnen Stichproben überprüft. Beim untenstehenden Plot fällt auf, dass die Tweets von Elon Musk bezüglich der Emotionalität das ganze Spektrum ausfüllen, während das Unternehmen Tesla selbst etwas neutraler twittert.\n",
    "\n",
    "_Hinweis: Der Median bei den Tweets von Tesla befindet sich am unteren Ende der Box und ist deshalb schwer zu erkennen._"
   ]
  },
  {
   "cell_type": "code",
   "execution_count": null,
   "metadata": {
    "slideshow": {
     "slide_type": "fragment"
    }
   },
   "outputs": [],
   "source": [
    "#!/usr/bin/env python\n",
    "# -*- coding: UTF8 -*-\n",
    "\n",
    "# Author: Marco Romanutti -- marco.romanutti@students.fhnw.ch\n",
    "# https://gitlab.fhnw.ch/ML-AT-FHNW/dsp_data_stories.git\n",
    "# Code of corresponding helper classes, see:\n",
    "# hs2018.twitter_stock_correlation.util\n",
    "\n",
    "# Plot polarity distribution\n",
    "statHelper.plot_polarity_distribution(statHelper, tweets)"
   ]
  },
  {
   "cell_type": "markdown",
   "metadata": {
    "slideshow": {
     "slide_type": "skip"
    }
   },
   "source": [
    "**4) Likes machen ein Grossteil der Aktivitäten auf Twitter aus**"
   ]
  },
  {
   "cell_type": "markdown",
   "metadata": {
    "slideshow": {
     "slide_type": "skip"
    }
   },
   "source": [
    "Im folgenden Plot wird die Entwicklung der Twitter-Aktivitäten über die Zeit veranschaulicht. Es ist ersichtlich, dass die Twitter-Aktivitäten grösstenteils aus Likes bestehen. Der Anteil an effektiven Tweets ist innerhalb der verschiedenen Aktivitäten klein. Indem im oberen Chart ein Zeitbereich selektiert wird, werden im unteren Chart die entsprechenden Bars farblich hervorgehoben (s. auch [Lesehilfe Plot \"Entwicklung Twitter-Aktivitäten\"](resources/interpretation_activities.png))."
   ]
  },
  {
   "cell_type": "code",
   "execution_count": null,
   "metadata": {
    "slideshow": {
     "slide_type": "skip"
    }
   },
   "outputs": [],
   "source": [
    "#!/usr/bin/env python\n",
    "# -*- coding: UTF8 -*-\n",
    "\n",
    "# Author: Marco Romanutti -- marco.romanutti@students.fhnw.ch\n",
    "# https://gitlab.fhnw.ch/ML-AT-FHNW/dsp_data_stories.git\n",
    "# Code of corresponding helper classes, see:\n",
    "# hs2018.twitter_stock_correlation.util\n",
    "\n",
    "# Plot development and ratio of twitter activities\n",
    "statHelper.plot_twitter_activities(combined_data)\n",
    "\n",
    "# Workaround for interactive charts in presentation mode\n",
    "from IPython.display import IFrame\n",
    "IFrame(src='resources/twitter_activities.html', width=900, height=400)"
   ]
  },
  {
   "cell_type": "markdown",
   "metadata": {
    "slideshow": {
     "slide_type": "slide"
    }
   },
   "source": [
    "**5) Keine allgemeingültige Korrelation zwischen Aktien und Tweets feststellbar**  "
   ]
  },
  {
   "cell_type": "markdown",
   "metadata": {
    "slideshow": {
     "slide_type": "skip"
    }
   },
   "source": [
    "Obwohl zwar Einflüsse von Tweets auf Aktienkurse bei einzelnen Tweets erkannt wurden (s. erstes Resultat), konnte keine allgemeingültige Korrelation zwischen den beiden Datensets festgestellt werden. Im untenstehenden Plot sind einige dieser nicht korrelierenden Beispiele dargestellt. Die jeweils abhängige Variable kann im Dropdown-Menü unter dem Plot ausgewählt werden (s. auch [Lesehilfe Plot \"Korrelation\"](resources/interpretation_correlation.png)).\n",
    "Im Notebook *DataStory_Appendix* im **_Appendix C4: Quantitative correlations_** wird diese Erkenntnis noch anhand errechneter Korrelationen unterstrichen."
   ]
  },
  {
   "cell_type": "code",
   "execution_count": null,
   "metadata": {
    "slideshow": {
     "slide_type": "fragment"
    }
   },
   "outputs": [],
   "source": [
    "#!/usr/bin/env python\n",
    "# -*- coding: UTF8 -*-\n",
    "\n",
    "# Author: Marco Romanutti -- marco.romanutti@students.fhnw.ch\n",
    "# https://gitlab.fhnw.ch/ML-AT-FHNW/dsp_data_stories.git\n",
    "# Code of corresponding helper classes, see:\n",
    "# hs2018.twitter_stock_correlation.util\n",
    "\n",
    "# Plot correlations\n",
    "statHelper.plot_diff_correlations(combined_data)\n",
    "\n",
    "# Workaround for interactive charts in presentation mode\n",
    "from IPython.display import IFrame\n",
    "IFrame(src='resources/diff_correlations.html', width=900, height=430)"
   ]
  },
  {
   "cell_type": "markdown",
   "metadata": {
    "slideshow": {
     "slide_type": "slide"
    }
   },
   "source": [
    "### Conclusion <a name=\"sec_conclusion\"></a>"
   ]
  },
  {
   "cell_type": "markdown",
   "metadata": {
    "slideshow": {
     "slide_type": "skip"
    }
   },
   "source": [
    "Die Analyse der Daten in den vorangegangenen Kapiteln lassen verschiedene Schlüsse zu:\n",
    "\n",
    "* Einerseits ist bei den Aktien eine **Korrelation zwischen Kursdifferenz und Anzahl der gehandelten Aktien** erkennbar: Die Kursdifferenzen sind an Tagen mit einer hohen Anzahl gehandelten Aktien besonders gross. \n",
    "* Die Analyse der Polarität der einzelnen Tweets lassen den Schluss zu, dass die **Tweets tendenziell eher positiv** ausfallen.\n",
    "* Weiter wurde festgestellt, dass ein **Grossteil der Aktivitäten auf Twitter aus Likes besteht**. Retweets und insbesondere auch eigene Posts kommen im Verhältnis dazu weniger häufig vor.\n",
    "* Indem die von unterschiedlichen Quellen stammenden Datensets kombiniert wurden, konnte die Korrelation der Daten überprüft werden. Obwohl anhand von Stichproben zwar Einflüsse von Tweets auf Aktienkurse bei einzelnen Tweets vermutet werden können, konnte **keine allgemeingültige Korrelation zwischen den beiden Datensets festgestellt** werden. Um sicherzustellen, dass die fehlenden Korrelationen nicht einfach nur Tesla-spezifisch sind, wurden dieselben Analysen auf für Daten der Unternehmen Amazon und Nike durchgeführt. Die Resultate entsprachen dabei jenen vom Unternehmen Tesla - es konnten auch bei den anderen Unternehmen keine Korrelationen zwischen Aktienkursen und Tweets festgestellt werden."
   ]
  }
 ],
 "metadata": {
  "celltoolbar": "Slideshow",
  "kernelspec": {
   "display_name": "Python 3",
   "language": "python",
   "name": "python3"
  },
  "language_info": {
   "codemirror_mode": {
    "name": "ipython",
    "version": 3
   },
   "file_extension": ".py",
   "mimetype": "text/x-python",
   "name": "python",
   "nbconvert_exporter": "python",
   "pygments_lexer": "ipython3",
   "version": "3.6.5"
  }
 },
 "nbformat": 4,
 "nbformat_minor": 1
}
